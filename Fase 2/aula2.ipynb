{
 "cells": [
  {
   "cell_type": "code",
   "execution_count": null,
   "id": "800b748a",
   "metadata": {},
   "outputs": [
    {
     "name": "stdout",
     "output_type": "stream",
     "text": [
      "['maçã', 'banana', 'cereja', 'laranja']\n"
     ]
    }
   ],
   "source": [
    "### Parte 1 ###\n",
    "frutas = ['maçã', 'banana', 'cereja']\n",
    "frutas.append('laranja')\n",
    "print(frutas)  # ['maçã', 'banana', 'cereja', 'laranja']"
   ]
  },
  {
   "cell_type": "code",
   "execution_count": 2,
   "id": "6bad412a",
   "metadata": {},
   "outputs": [
    {
     "name": "stdout",
     "output_type": "stream",
     "text": [
      "2\n"
     ]
    }
   ],
   "source": [
    "### Parte 2 ###\n",
    "numeros = (1, 2, 3)\n",
    "print(numeros[1])  # 2"
   ]
  },
  {
   "cell_type": "code",
   "execution_count": 4,
   "id": "d93818ac",
   "metadata": {},
   "outputs": [
    {
     "name": "stdout",
     "output_type": "stream",
     "text": [
      "{1, 2, 3, 4}\n"
     ]
    }
   ],
   "source": [
    "### Parte 3 ###\n",
    "conjunto = {1, 2, 3, 4, 4}\n",
    "print(conjunto)  # {1, 2, 3, 4}"
   ]
  },
  {
   "cell_type": "code",
   "execution_count": 5,
   "id": "7bc031ad",
   "metadata": {},
   "outputs": [
    {
     "name": "stdout",
     "output_type": "stream",
     "text": [
      "João\n"
     ]
    }
   ],
   "source": [
    "### Parte 4 ###\n",
    "aluno = {'nome': 'João', 'idade': 20, 'curso': 'Engenharia'}\n",
    "print(aluno['nome'])  # João"
   ]
  },
  {
   "cell_type": "code",
   "execution_count": 8,
   "id": "9b4dd9c5",
   "metadata": {},
   "outputs": [
    {
     "name": "stdout",
     "output_type": "stream",
     "text": [
      "10\n"
     ]
    }
   ],
   "source": [
    "dobro = lambda x: x * 2\n",
    "print(dobro(5))  # 10"
   ]
  },
  {
   "cell_type": "code",
   "execution_count": 9,
   "id": "8d43ad37",
   "metadata": {},
   "outputs": [
    {
     "name": "stdout",
     "output_type": "stream",
     "text": [
      "Saudação!\n",
      "Olá, Mundo!\n"
     ]
    }
   ],
   "source": [
    "def decorador_saudacao(func):\n",
    "    def wrapper(*args, **kwargs):\n",
    "        print(\"Saudação!\")\n",
    "        return func(*args, **kwargs)\n",
    "    return wrapper\n",
    "\n",
    "@decorador_saudacao\n",
    "def ola(nome):\n",
    "    print(f\"Olá, {nome}!\")\n",
    "\n",
    "ola(\"Mundo\")  # Saudação! Olá, Mundo!"
   ]
  },
  {
   "cell_type": "code",
   "execution_count": 10,
   "id": "c12e7d92",
   "metadata": {},
   "outputs": [
    {
     "name": "stdout",
     "output_type": "stream",
     "text": [
      "Entrando no contexto.\n",
      "Dentro do bloco with.\n",
      "Saindo do contexto.\n"
     ]
    }
   ],
   "source": [
    "class GerenciadorDeContexto:\n",
    "    def __enter__(self):\n",
    "        print(\"Entrando no contexto.\")\n",
    "        return self\n",
    "\n",
    "    def __exit__(self, exc_type, exc_value, traceback):\n",
    "        print(\"Saindo do contexto.\")\n",
    "\n",
    "with GerenciadorDeContexto():\n",
    "    print(\"Dentro do bloco with.\")"
   ]
  },
  {
   "cell_type": "code",
   "execution_count": null,
   "id": "f4599d0b",
   "metadata": {},
   "outputs": [
    {
     "name": "stdout",
     "output_type": "stream",
     "text": [
      "[1 0 1]\n",
      "Taxa de acerto 100.00%\n"
     ]
    }
   ],
   "source": [
    "#Nesse caso, os dados de treino são características de ações,\n",
    "#e os rótulos são se o preço da ação subiu (1) ou caiu (0).\n",
    "\n",
    "\n",
    "from sklearn.svm import LinearSVC\n",
    "from sklearn.metrics import accuracy_score\n",
    "\n",
    "# Variação diária positiva?\n",
    "# Volume de negociações alto?\n",
    "# Preço de fechamento alto?\n",
    "acao1 = [1, 0, 1]  # AAPL\n",
    "acao2 = [0, 1, 0]  # GOOGL\n",
    "acao3 = [1, 1, 1]  # MSFT\n",
    "acao4 = [0, 0, 1]  # AMZN\n",
    "acao5 = [1, 1, 0]  # TSLA\n",
    "acao6 = [0, 1, 1]  # FB\n",
    "\n",
    "dados_treino = [acao1, acao2, acao3, acao4, acao5, acao6]\n",
    "rotulos_treino = [1, 1, 1, 0, 0, 0]  # 1 indica subida no preço, 0 indica queda no preço\n",
    "\n",
    "# Inicializar o modelo LinearSVC\n",
    "modelo = LinearSVC()\n",
    "modelo.fit(dados_treino, rotulos_treino)\n",
    "\n",
    "# Conjunto de teste\n",
    "teste1 = [1, 0, 0]\n",
    "teste2 = [0, 1, 1]\n",
    "teste3 = [1, 1, 0]\n",
    "\n",
    "dados_teste = [teste1, teste2, teste3]\n",
    "rotulos_teste = [1, 0, 1]  # Valores reais de subida ou queda\n",
    "\n",
    "# Fazer previsões\n",
    "previsoes = modelo.predict(dados_teste)\n",
    "\n",
    "# Avaliar a precisão do modelo\n",
    "taxa_acerto = accuracy_score(rotulos_teste, previsoes)\n",
    "print(\"Taxa de acerto %.2f%%\" % (taxa_acerto * 100))"
   ]
  }
 ],
 "metadata": {
  "kernelspec": {
   "display_name": "Python 3",
   "language": "python",
   "name": "python3"
  },
  "language_info": {
   "codemirror_mode": {
    "name": "ipython",
    "version": 3
   },
   "file_extension": ".py",
   "mimetype": "text/x-python",
   "name": "python",
   "nbconvert_exporter": "python",
   "pygments_lexer": "ipython3",
   "version": "3.13.7"
  }
 },
 "nbformat": 4,
 "nbformat_minor": 5
}
